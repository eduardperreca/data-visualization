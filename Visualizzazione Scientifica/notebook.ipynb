{
 "cells": [
  {
   "cell_type": "code",
   "execution_count": 6,
   "metadata": {},
   "outputs": [
    {
     "name": "stdout",
     "output_type": "stream",
     "text": [
      "{'NORD': 11165853, 'CENTRO': 4050084, 'SUD': 13305579}\n"
     ]
    },
    {
     "data": {
      "image/png": "[encoded data removed]",
      "text/plain": [
       "<Figure size 640x480 with 1 Axes>"
      ]
     },
     "metadata": {},
     "output_type": "display_data"
    }
   ],
   "source": [
    "import pandas as pd\n",
    "import matplotlib.pyplot as plt\n",
    "import numpy as np\n",
    "\n",
    "x = []\n",
    "y = []\n",
    "\n",
    "nord = ['LOMBARDIA 1', 'LOMBARDIA 2', 'LOMBARDIA 3', 'LOMBARDIA 4', 'PIEMONTE 1', 'PIEMONTE 2', 'FRIULI-VENEZIA GIULIA', 'VENETO 1', 'VENETO 2', 'TRENTINO-ALTO ADIGE/SÜDTIROL', 'LIGURIA']\n",
    "centro = ['EMILIA-ROMANGA', 'TOSCANA', 'MARCHE', 'UMBRIA', 'LAZIO 1', 'LAZIO 2' 'ABRUZZO', 'MOLISE']\n",
    "sud = ['CAMPANIA 1', 'CAMPANIA 2', 'PUGLIA', 'BASILICATA', 'CALABRIA', 'SICILIA', 'SARDEGNA']\n",
    "\n",
    "visited = []\n",
    "\n",
    "chunksize = 10 ** 6\n",
    "random = {'NORD': 0, 'CENTRO': 0, 'SUD': 0}\n",
    "df = pd.read_csv('politicheDataset2022.csv', sep=';', chunksize=chunksize, encoding='latin-1')\n",
    "for check in df:\n",
    "    for index, row in check.iterrows():\n",
    "        if row['CIRCOSCRIZIONE'] in nord:\n",
    "            if row['COMUNE'] not in visited:\n",
    "                random['NORD'] += row['VOTANTI TOTALI']\n",
    "                visited.append(row['COMUNE'])\n",
    "                visited.append(row['COLLEGIO UNINOMINALE'])\n",
    "            if row['COLLEGIO UNINOMINALE'] not in visited:\n",
    "                random['SUD'] += row['VOTANTI TOTALI']\n",
    "                visited.append(row['COLLEGIO UNINOMINALE'])\n",
    "\n",
    "        elif row['CIRCOSCRIZIONE'] in centro:\n",
    "            if row['COMUNE'] not in visited:\n",
    "                random['CENTRO'] += row['VOTANTI TOTALI']\n",
    "                visited.append(row['COMUNE'])\n",
    "                visited.append(row['COLLEGIO UNINOMINALE'])\n",
    "            if row['COLLEGIO UNINOMINALE'] not in visited:\n",
    "                random['SUD'] += row['VOTANTI TOTALI']\n",
    "                visited.append(row['COLLEGIO UNINOMINALE'])\n",
    "\n",
    "        else:\n",
    "            if row['COMUNE'] not in visited:\n",
    "                random['SUD'] += row['VOTANTI TOTALI']\n",
    "                visited.append(row['COMUNE'])\n",
    "                visited.append(row['COLLEGIO UNINOMINALE'])\n",
    "            if row['COLLEGIO UNINOMINALE'] not in visited:\n",
    "                random['SUD'] += row['VOTANTI TOTALI']\n",
    "                visited.append(row['COLLEGIO UNINOMINALE'])\n",
    "\n",
    "print(random)\n",
    "\n",
    "for key, value in random.items():\n",
    "    x.append(key)\n",
    "    y.append(value)\n",
    "\n",
    "plt.bar(x, y)\n",
    "plt.show()"
   ]
  },
  {
   "cell_type": "code",
   "execution_count": 14,
   "metadata": {},
   "outputs": [
    {
     "name": "stdout",
     "output_type": "stream",
     "text": [
      "0        4870\n",
      "1        4870\n",
      "2        4870\n",
      "3        4870\n",
      "4        4870\n",
      "         ... \n",
      "85736    3461\n",
      "85737    3461\n",
      "85738    3461\n",
      "85739    3461\n",
      "85740    3461\n",
      "Name: VOTANTI, Length: 85741, dtype: int64\n"
     ]
    }
   ],
   "source": [
    "df = pd.read_csv('1953.txt', sep=';', chunksize=chunksize, encoding='latin-1')\n",
    "for check in df:\n",
    "    print(check['VOTANTI'])"
   ]
  }
 ],
 "metadata": {
  "kernelspec": {
   "display_name": "Python 3.10.7 64-bit",
   "language": "python",
   "name": "python3"
  },
  "language_info": {
   "codemirror_mode": {
    "name": "ipython",
    "version": 3
   },
   "file_extension": ".py",
   "mimetype": "text/x-python",
   "name": "python",
   "nbconvert_exporter": "python",
   "pygments_lexer": "ipython3",
   "version": "3.10.7"
  },
  "orig_nbformat": 4,
  "vscode": {
   "interpreter": {
    "hash": "aee8b7b246df8f9039afb4144a1f6fd8d2ca17a180786b69acc140d282b71a49"
   }
  }
 },
 "nbformat": 4,
 "nbformat_minor": 2
}
